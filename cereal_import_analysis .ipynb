{
 "cells": [
  {
   "cell_type": "markdown",
   "id": "345358f4",
   "metadata": {},
   "source": [
    "# Exploring Nigeria's major cereals import"
   ]
  },
  {
   "cell_type": "markdown",
   "id": "c81fed80",
   "metadata": {},
   "source": [
    "Nigeria has over 800 million hectares of arable land with over half yet to be utilized and with almost 300 cubic metres of water, allowing for a large expanse of this land to be irrigated and yet, the country spends over 10 billion dollars annually importing food and agricultural produce, most especially cereals.The yield gotten from the local production of these crops is way below the demand as a result of unsustainable production practices thereby making importation the only way of feeding the ever growing populace.\n",
    "The aim of this analysis was to get an insight of the amount spent on the importation of the four most consumed cereals(Wheat, Maize, Rice and Oats) within the span of four years(2018-2019). This will give an idea of the money being used by the country on the importation of commodities than it can and should otherwise produce.\n"
   ]
  },
  {
   "cell_type": "code",
   "execution_count": 1,
   "id": "a7830c3e",
   "metadata": {},
   "outputs": [],
   "source": [
    "from pandas import *\n",
    "import matplotlib.pyplot as plt"
   ]
  },
  {
   "cell_type": "markdown",
   "id": "bb7ff95e",
   "metadata": {},
   "source": [
    "# Preparing and getting the data"
   ]
  },
  {
   "cell_type": "markdown",
   "id": "d3713352",
   "metadata": {},
   "source": [
    "The data was gotten from the United Nations Comtrade website (https://comtrade.un.org/data) and was downloaded directly into the notebook using the URL. The table conist of 140 rows and 35 columns. The first five rows of the table is shown below.\n"
   ]
  },
  {
   "cell_type": "code",
   "execution_count": 7,
   "id": "a579a631",
   "metadata": {},
   "outputs": [],
   "source": [
    "URL='http://comtrade.un.org/api/get?max=5000&type=C&freq=A&px=HS&ps=2018%2C2019%2C2020%2C2021&r=566&p=all&rg=1&cc=100111%2C100610%2C100510%2C100410&fmt=csv'\n",
    "\n"
   ]
  },
  {
   "cell_type": "code",
   "execution_count": 10,
   "id": "c1f67d62",
   "metadata": {},
   "outputs": [
    {
     "data": {
      "text/html": [
       "<div>\n",
       "<style scoped>\n",
       "    .dataframe tbody tr th:only-of-type {\n",
       "        vertical-align: middle;\n",
       "    }\n",
       "\n",
       "    .dataframe tbody tr th {\n",
       "        vertical-align: top;\n",
       "    }\n",
       "\n",
       "    .dataframe thead th {\n",
       "        text-align: right;\n",
       "    }\n",
       "</style>\n",
       "<table border=\"1\" class=\"dataframe\">\n",
       "  <thead>\n",
       "    <tr style=\"text-align: right;\">\n",
       "      <th></th>\n",
       "      <th>Classification</th>\n",
       "      <th>Year</th>\n",
       "      <th>Period</th>\n",
       "      <th>Period Desc.</th>\n",
       "      <th>Aggregate Level</th>\n",
       "      <th>Is Leaf Code</th>\n",
       "      <th>Trade Flow Code</th>\n",
       "      <th>Trade Flow</th>\n",
       "      <th>Reporter Code</th>\n",
       "      <th>Reporter</th>\n",
       "      <th>...</th>\n",
       "      <th>Qty</th>\n",
       "      <th>Alt Qty Unit Code</th>\n",
       "      <th>Alt Qty Unit</th>\n",
       "      <th>Alt Qty</th>\n",
       "      <th>Netweight (kg)</th>\n",
       "      <th>Gross weight (kg)</th>\n",
       "      <th>Trade Value (US$)</th>\n",
       "      <th>CIF Trade Value (US$)</th>\n",
       "      <th>FOB Trade Value (US$)</th>\n",
       "      <th>Flag</th>\n",
       "    </tr>\n",
       "  </thead>\n",
       "  <tbody>\n",
       "    <tr>\n",
       "      <th>0</th>\n",
       "      <td>H4</td>\n",
       "      <td>2018</td>\n",
       "      <td>2018</td>\n",
       "      <td>2018</td>\n",
       "      <td>6</td>\n",
       "      <td>1</td>\n",
       "      <td>1</td>\n",
       "      <td>Import</td>\n",
       "      <td>566</td>\n",
       "      <td>Nigeria</td>\n",
       "      <td>...</td>\n",
       "      <td>0</td>\n",
       "      <td>NaN</td>\n",
       "      <td>NaN</td>\n",
       "      <td>NaN</td>\n",
       "      <td>NaN</td>\n",
       "      <td>NaN</td>\n",
       "      <td>566867014</td>\n",
       "      <td>NaN</td>\n",
       "      <td>NaN</td>\n",
       "      <td>6</td>\n",
       "    </tr>\n",
       "    <tr>\n",
       "      <th>1</th>\n",
       "      <td>H4</td>\n",
       "      <td>2018</td>\n",
       "      <td>2018</td>\n",
       "      <td>2018</td>\n",
       "      <td>6</td>\n",
       "      <td>1</td>\n",
       "      <td>1</td>\n",
       "      <td>Import</td>\n",
       "      <td>566</td>\n",
       "      <td>Nigeria</td>\n",
       "      <td>...</td>\n",
       "      <td>76048</td>\n",
       "      <td>NaN</td>\n",
       "      <td>NaN</td>\n",
       "      <td>NaN</td>\n",
       "      <td>76048.0</td>\n",
       "      <td>NaN</td>\n",
       "      <td>16549392</td>\n",
       "      <td>NaN</td>\n",
       "      <td>NaN</td>\n",
       "      <td>0</td>\n",
       "    </tr>\n",
       "    <tr>\n",
       "      <th>2</th>\n",
       "      <td>H4</td>\n",
       "      <td>2018</td>\n",
       "      <td>2018</td>\n",
       "      <td>2018</td>\n",
       "      <td>6</td>\n",
       "      <td>1</td>\n",
       "      <td>1</td>\n",
       "      <td>Import</td>\n",
       "      <td>566</td>\n",
       "      <td>Nigeria</td>\n",
       "      <td>...</td>\n",
       "      <td>85760300</td>\n",
       "      <td>NaN</td>\n",
       "      <td>NaN</td>\n",
       "      <td>NaN</td>\n",
       "      <td>85760300.0</td>\n",
       "      <td>NaN</td>\n",
       "      <td>115266557</td>\n",
       "      <td>NaN</td>\n",
       "      <td>NaN</td>\n",
       "      <td>0</td>\n",
       "    </tr>\n",
       "    <tr>\n",
       "      <th>3</th>\n",
       "      <td>H4</td>\n",
       "      <td>2018</td>\n",
       "      <td>2018</td>\n",
       "      <td>2018</td>\n",
       "      <td>6</td>\n",
       "      <td>1</td>\n",
       "      <td>1</td>\n",
       "      <td>Import</td>\n",
       "      <td>566</td>\n",
       "      <td>Nigeria</td>\n",
       "      <td>...</td>\n",
       "      <td>30010800</td>\n",
       "      <td>NaN</td>\n",
       "      <td>NaN</td>\n",
       "      <td>NaN</td>\n",
       "      <td>30010800.0</td>\n",
       "      <td>NaN</td>\n",
       "      <td>9301508</td>\n",
       "      <td>NaN</td>\n",
       "      <td>NaN</td>\n",
       "      <td>0</td>\n",
       "    </tr>\n",
       "    <tr>\n",
       "      <th>4</th>\n",
       "      <td>H4</td>\n",
       "      <td>2018</td>\n",
       "      <td>2018</td>\n",
       "      <td>2018</td>\n",
       "      <td>6</td>\n",
       "      <td>1</td>\n",
       "      <td>1</td>\n",
       "      <td>Import</td>\n",
       "      <td>566</td>\n",
       "      <td>Nigeria</td>\n",
       "      <td>...</td>\n",
       "      <td>52763500</td>\n",
       "      <td>NaN</td>\n",
       "      <td>NaN</td>\n",
       "      <td>NaN</td>\n",
       "      <td>52763500.0</td>\n",
       "      <td>NaN</td>\n",
       "      <td>12783642</td>\n",
       "      <td>NaN</td>\n",
       "      <td>NaN</td>\n",
       "      <td>0</td>\n",
       "    </tr>\n",
       "  </tbody>\n",
       "</table>\n",
       "<p>5 rows × 35 columns</p>\n",
       "</div>"
      ],
      "text/plain": [
       "  Classification  Year  Period  Period Desc.  Aggregate Level  Is Leaf Code  \\\n",
       "0             H4  2018    2018          2018                6             1   \n",
       "1             H4  2018    2018          2018                6             1   \n",
       "2             H4  2018    2018          2018                6             1   \n",
       "3             H4  2018    2018          2018                6             1   \n",
       "4             H4  2018    2018          2018                6             1   \n",
       "\n",
       "   Trade Flow Code Trade Flow Reporter Code Reporter  ...       Qty  \\\n",
       "0                1     Import           566  Nigeria  ...         0   \n",
       "1                1     Import           566  Nigeria  ...     76048   \n",
       "2                1     Import           566  Nigeria  ...  85760300   \n",
       "3                1     Import           566  Nigeria  ...  30010800   \n",
       "4                1     Import           566  Nigeria  ...  52763500   \n",
       "\n",
       "   Alt Qty Unit Code Alt Qty Unit Alt Qty  Netweight (kg)  Gross weight (kg)  \\\n",
       "0                NaN          NaN     NaN             NaN                NaN   \n",
       "1                NaN          NaN     NaN         76048.0                NaN   \n",
       "2                NaN          NaN     NaN      85760300.0                NaN   \n",
       "3                NaN          NaN     NaN      30010800.0                NaN   \n",
       "4                NaN          NaN     NaN      52763500.0                NaN   \n",
       "\n",
       "   Trade Value (US$)  CIF Trade Value (US$)  FOB Trade Value (US$)  Flag  \n",
       "0          566867014                    NaN                    NaN     6  \n",
       "1           16549392                    NaN                    NaN     0  \n",
       "2          115266557                    NaN                    NaN     0  \n",
       "3            9301508                    NaN                    NaN     0  \n",
       "4           12783642                    NaN                    NaN     0  \n",
       "\n",
       "[5 rows x 35 columns]"
      ]
     },
     "execution_count": 10,
     "metadata": {},
     "output_type": "execute_result"
    }
   ],
   "source": [
    "data=read_csv(URL, dtype={'Commodity Code':str, 'Reporter Code':str})\n",
    "data.head()"
   ]
  },
  {
   "cell_type": "code",
   "execution_count": 11,
   "id": "4bc494c2",
   "metadata": {
    "scrolled": false
   },
   "outputs": [
    {
     "data": {
      "text/plain": [
       "(140, 35)"
      ]
     },
     "execution_count": 11,
     "metadata": {},
     "output_type": "execute_result"
    }
   ],
   "source": [
    "data.shape"
   ]
  },
  {
   "cell_type": "markdown",
   "id": "f2545d49",
   "metadata": {},
   "source": [
    "The data was thoroughly checked for any missing values or special characters after which the columns of interest were selected and the rest discarded."
   ]
  },
  {
   "cell_type": "code",
   "execution_count": 12,
   "id": "0def5288",
   "metadata": {},
   "outputs": [
    {
     "data": {
      "text/html": [
       "<div>\n",
       "<style scoped>\n",
       "    .dataframe tbody tr th:only-of-type {\n",
       "        vertical-align: middle;\n",
       "    }\n",
       "\n",
       "    .dataframe tbody tr th {\n",
       "        vertical-align: top;\n",
       "    }\n",
       "\n",
       "    .dataframe thead th {\n",
       "        text-align: right;\n",
       "    }\n",
       "</style>\n",
       "<table border=\"1\" class=\"dataframe\">\n",
       "  <thead>\n",
       "    <tr style=\"text-align: right;\">\n",
       "      <th></th>\n",
       "      <th>Year</th>\n",
       "      <th>Trade Flow</th>\n",
       "      <th>Partner</th>\n",
       "      <th>Commodity</th>\n",
       "      <th>Trade Value (US$)</th>\n",
       "    </tr>\n",
       "  </thead>\n",
       "  <tbody>\n",
       "    <tr>\n",
       "      <th>0</th>\n",
       "      <td>2018</td>\n",
       "      <td>Import</td>\n",
       "      <td>World</td>\n",
       "      <td>Cereals; wheat and meslin, durum wheat, seed</td>\n",
       "      <td>566867014</td>\n",
       "    </tr>\n",
       "    <tr>\n",
       "      <th>1</th>\n",
       "      <td>2018</td>\n",
       "      <td>Import</td>\n",
       "      <td>Argentina</td>\n",
       "      <td>Cereals; wheat and meslin, durum wheat, seed</td>\n",
       "      <td>16549392</td>\n",
       "    </tr>\n",
       "    <tr>\n",
       "      <th>2</th>\n",
       "      <td>2018</td>\n",
       "      <td>Import</td>\n",
       "      <td>Canada</td>\n",
       "      <td>Cereals; wheat and meslin, durum wheat, seed</td>\n",
       "      <td>115266557</td>\n",
       "    </tr>\n",
       "    <tr>\n",
       "      <th>3</th>\n",
       "      <td>2018</td>\n",
       "      <td>Import</td>\n",
       "      <td>Cayman Isds</td>\n",
       "      <td>Cereals; wheat and meslin, durum wheat, seed</td>\n",
       "      <td>9301508</td>\n",
       "    </tr>\n",
       "    <tr>\n",
       "      <th>4</th>\n",
       "      <td>2018</td>\n",
       "      <td>Import</td>\n",
       "      <td>Germany</td>\n",
       "      <td>Cereals; wheat and meslin, durum wheat, seed</td>\n",
       "      <td>12783642</td>\n",
       "    </tr>\n",
       "    <tr>\n",
       "      <th>...</th>\n",
       "      <td>...</td>\n",
       "      <td>...</td>\n",
       "      <td>...</td>\n",
       "      <td>...</td>\n",
       "      <td>...</td>\n",
       "    </tr>\n",
       "    <tr>\n",
       "      <th>135</th>\n",
       "      <td>2020</td>\n",
       "      <td>Import</td>\n",
       "      <td>Thailand</td>\n",
       "      <td>Cereals; rice in the husk (paddy or rough)</td>\n",
       "      <td>2127554</td>\n",
       "    </tr>\n",
       "    <tr>\n",
       "      <th>136</th>\n",
       "      <td>2021</td>\n",
       "      <td>Import</td>\n",
       "      <td>World</td>\n",
       "      <td>Cereals; rice in the husk (paddy or rough)</td>\n",
       "      <td>288005</td>\n",
       "    </tr>\n",
       "    <tr>\n",
       "      <th>137</th>\n",
       "      <td>2021</td>\n",
       "      <td>Import</td>\n",
       "      <td>China</td>\n",
       "      <td>Cereals; rice in the husk (paddy or rough)</td>\n",
       "      <td>2851</td>\n",
       "    </tr>\n",
       "    <tr>\n",
       "      <th>138</th>\n",
       "      <td>2021</td>\n",
       "      <td>Import</td>\n",
       "      <td>India</td>\n",
       "      <td>Cereals; rice in the husk (paddy or rough)</td>\n",
       "      <td>284650</td>\n",
       "    </tr>\n",
       "    <tr>\n",
       "      <th>139</th>\n",
       "      <td>2021</td>\n",
       "      <td>Import</td>\n",
       "      <td>USA</td>\n",
       "      <td>Cereals; rice in the husk (paddy or rough)</td>\n",
       "      <td>503</td>\n",
       "    </tr>\n",
       "  </tbody>\n",
       "</table>\n",
       "<p>140 rows × 5 columns</p>\n",
       "</div>"
      ],
      "text/plain": [
       "     Year Trade Flow      Partner  \\\n",
       "0    2018     Import        World   \n",
       "1    2018     Import    Argentina   \n",
       "2    2018     Import       Canada   \n",
       "3    2018     Import  Cayman Isds   \n",
       "4    2018     Import      Germany   \n",
       "..    ...        ...          ...   \n",
       "135  2020     Import     Thailand   \n",
       "136  2021     Import        World   \n",
       "137  2021     Import        China   \n",
       "138  2021     Import        India   \n",
       "139  2021     Import          USA   \n",
       "\n",
       "                                        Commodity  Trade Value (US$)  \n",
       "0    Cereals; wheat and meslin, durum wheat, seed          566867014  \n",
       "1    Cereals; wheat and meslin, durum wheat, seed           16549392  \n",
       "2    Cereals; wheat and meslin, durum wheat, seed          115266557  \n",
       "3    Cereals; wheat and meslin, durum wheat, seed            9301508  \n",
       "4    Cereals; wheat and meslin, durum wheat, seed           12783642  \n",
       "..                                            ...                ...  \n",
       "135    Cereals; rice in the husk (paddy or rough)            2127554  \n",
       "136    Cereals; rice in the husk (paddy or rough)             288005  \n",
       "137    Cereals; rice in the husk (paddy or rough)               2851  \n",
       "138    Cereals; rice in the husk (paddy or rough)             284650  \n",
       "139    Cereals; rice in the husk (paddy or rough)                503  \n",
       "\n",
       "[140 rows x 5 columns]"
      ]
     },
     "execution_count": 12,
     "metadata": {},
     "output_type": "execute_result"
    }
   ],
   "source": [
    "columns=['Year', 'Trade Flow', 'Partner', 'Commodity',  'Trade Value (US$)' ]\n",
    "data=data[columns]\n",
    "data"
   ]
  },
  {
   "cell_type": "code",
   "execution_count": 13,
   "id": "42b4d08f",
   "metadata": {},
   "outputs": [],
   "source": [
    "cereal_world_import=data[data['Partner']=='World']\n",
    "cereal_countries_import=data[data['Partner']!='World']"
   ]
  },
  {
   "cell_type": "markdown",
   "id": "d1c6eba5",
   "metadata": {},
   "source": [
    "# Total import value"
   ]
  },
  {
   "cell_type": "code",
   "execution_count": 50,
   "id": "19af4cc3",
   "metadata": {},
   "outputs": [
    {
     "data": {
      "text/html": [
       "<div>\n",
       "<style scoped>\n",
       "    .dataframe tbody tr th:only-of-type {\n",
       "        vertical-align: middle;\n",
       "    }\n",
       "\n",
       "    .dataframe tbody tr th {\n",
       "        vertical-align: top;\n",
       "    }\n",
       "\n",
       "    .dataframe thead th {\n",
       "        text-align: right;\n",
       "    }\n",
       "</style>\n",
       "<table border=\"1\" class=\"dataframe\">\n",
       "  <thead>\n",
       "    <tr style=\"text-align: right;\">\n",
       "      <th></th>\n",
       "      <th>Trade Value (US$)</th>\n",
       "    </tr>\n",
       "    <tr>\n",
       "      <th>Commodity</th>\n",
       "      <th></th>\n",
       "    </tr>\n",
       "  </thead>\n",
       "  <tbody>\n",
       "    <tr>\n",
       "      <th>Cereals; wheat and meslin, durum wheat, seed</th>\n",
       "      <td>1218465093</td>\n",
       "    </tr>\n",
       "    <tr>\n",
       "      <th>Cereals; maize (corn), seed</th>\n",
       "      <td>132835135</td>\n",
       "    </tr>\n",
       "    <tr>\n",
       "      <th>Cereals; rice in the husk (paddy or rough)</th>\n",
       "      <td>19986337</td>\n",
       "    </tr>\n",
       "    <tr>\n",
       "      <th>Cereals; oats, seeds</th>\n",
       "      <td>7012231</td>\n",
       "    </tr>\n",
       "  </tbody>\n",
       "</table>\n",
       "</div>"
      ],
      "text/plain": [
       "                                              Trade Value (US$)\n",
       "Commodity                                                      \n",
       "Cereals; wheat and meslin, durum wheat, seed         1218465093\n",
       "Cereals; maize (corn), seed                           132835135\n",
       "Cereals; rice in the husk (paddy or rough)             19986337\n",
       "Cereals; oats, seeds                                    7012231"
      ]
     },
     "execution_count": 50,
     "metadata": {},
     "output_type": "execute_result"
    }
   ],
   "source": [
    "total_crop_import=cereal_countries_import.groupby( ['Commodity'])[['Trade Value (US$)']].agg(sum).sort_values(by='Trade Value (US$)', ascending=False)\n",
    "total_crop_import"
   ]
  },
  {
   "cell_type": "code",
   "execution_count": 15,
   "id": "185341ef",
   "metadata": {},
   "outputs": [
    {
     "data": {
      "text/plain": [
       "Trade Value (US$)    1378298796\n",
       "dtype: int64"
      ]
     },
     "execution_count": 15,
     "metadata": {},
     "output_type": "execute_result"
    }
   ],
   "source": [
    "total=total_crop_import[['Trade Value (US$)']].sum()\n",
    "total"
   ]
  },
  {
   "cell_type": "markdown",
   "id": "0de3faae",
   "metadata": {},
   "source": [
    "This shows the total amount in US dollars spent on the importation of each crop and the total amount spent on importing the four crops from 2018 to 2021 which accounts to over 1 billion US dollars .It can be seen that Wheat has the highest import value accounting to over 80% 0f the total import in the four years.Oats is the least imported of the four crops    "
   ]
  },
  {
   "cell_type": "markdown",
   "id": "eb7eb5c7",
   "metadata": {},
   "source": [
    "# Total import by year"
   ]
  },
  {
   "cell_type": "code",
   "execution_count": 16,
   "id": "28a255be",
   "metadata": {},
   "outputs": [
    {
     "data": {
      "text/html": [
       "<div>\n",
       "<style scoped>\n",
       "    .dataframe tbody tr th:only-of-type {\n",
       "        vertical-align: middle;\n",
       "    }\n",
       "\n",
       "    .dataframe tbody tr th {\n",
       "        vertical-align: top;\n",
       "    }\n",
       "\n",
       "    .dataframe thead th {\n",
       "        text-align: right;\n",
       "    }\n",
       "</style>\n",
       "<table border=\"1\" class=\"dataframe\">\n",
       "  <thead>\n",
       "    <tr style=\"text-align: right;\">\n",
       "      <th>Commodity</th>\n",
       "      <th>Cereals; maize (corn), seed</th>\n",
       "      <th>Cereals; oats, seeds</th>\n",
       "      <th>Cereals; rice in the husk (paddy or rough)</th>\n",
       "      <th>Cereals; wheat and meslin, durum wheat, seed</th>\n",
       "    </tr>\n",
       "    <tr>\n",
       "      <th>Year</th>\n",
       "      <th></th>\n",
       "      <th></th>\n",
       "      <th></th>\n",
       "      <th></th>\n",
       "    </tr>\n",
       "  </thead>\n",
       "  <tbody>\n",
       "    <tr>\n",
       "      <th>2018</th>\n",
       "      <td>24585991</td>\n",
       "      <td>399499</td>\n",
       "      <td>6283097</td>\n",
       "      <td>566867010</td>\n",
       "    </tr>\n",
       "    <tr>\n",
       "      <th>2019</th>\n",
       "      <td>13619275</td>\n",
       "      <td>294045</td>\n",
       "      <td>70339</td>\n",
       "      <td>570157842</td>\n",
       "    </tr>\n",
       "    <tr>\n",
       "      <th>2020</th>\n",
       "      <td>89944414</td>\n",
       "      <td>3863879</td>\n",
       "      <td>13344897</td>\n",
       "      <td>80211576</td>\n",
       "    </tr>\n",
       "    <tr>\n",
       "      <th>2021</th>\n",
       "      <td>4685455</td>\n",
       "      <td>2454808</td>\n",
       "      <td>288004</td>\n",
       "      <td>1228665</td>\n",
       "    </tr>\n",
       "  </tbody>\n",
       "</table>\n",
       "</div>"
      ],
      "text/plain": [
       "Commodity  Cereals; maize (corn), seed  Cereals; oats, seeds  \\\n",
       "Year                                                           \n",
       "2018                          24585991                399499   \n",
       "2019                          13619275                294045   \n",
       "2020                          89944414               3863879   \n",
       "2021                           4685455               2454808   \n",
       "\n",
       "Commodity  Cereals; rice in the husk (paddy or rough)  \\\n",
       "Year                                                    \n",
       "2018                                          6283097   \n",
       "2019                                            70339   \n",
       "2020                                         13344897   \n",
       "2021                                           288004   \n",
       "\n",
       "Commodity  Cereals; wheat and meslin, durum wheat, seed  \n",
       "Year                                                     \n",
       "2018                                          566867010  \n",
       "2019                                          570157842  \n",
       "2020                                           80211576  \n",
       "2021                                            1228665  "
      ]
     },
     "execution_count": 16,
     "metadata": {},
     "output_type": "execute_result"
    }
   ],
   "source": [
    "tot_imp_year=cereal_countries_import.pivot_table(values='Trade Value (US$)', index='Year', columns='Commodity', aggfunc=sum, )\n",
    "tot_imp_year"
   ]
  },
  {
   "cell_type": "markdown",
   "id": "4f2a2ee2",
   "metadata": {},
   "source": [
    "Although wheat has the highest import value in the four years, more money was spent on the importation of maize than wheat in 2020 and 2021. This could be attributed to the corona virus outbreak in 2020, and the high cost of wheat at the international market in the two years thereby making the demand for maize, its close substitute higher."
   ]
  },
  {
   "cell_type": "code",
   "execution_count": 43,
   "id": "44f1da91",
   "metadata": {},
   "outputs": [
    {
     "data": {
      "image/png": "[encoded data removed]",
      "text/plain": [
       "<Figure size 432x288 with 1 Axes>"
      ]
     },
     "metadata": {
      "needs_background": "light"
     },
     "output_type": "display_data"
    }
   ],
   "source": [
    "cereal_countries_import.groupby(['Commodity', 'Year'])[['Trade Value (US$)']].aggregate(sum).plot(kind='barh', color='b')\n",
    "plt.title('cereals import by year and Trade value')\n",
    "plt.show()\n"
   ]
  },
  {
   "cell_type": "markdown",
   "id": "c46faa78",
   "metadata": {},
   "source": [
    "The plot shows that the highest wheat import was recorded in 2019 while maize import doubled by more than 80% from 2019 to  2020. That is to say, more maize was imported in 2020. A high percentage of this demand came from the animal feed sector."
   ]
  },
  {
   "cell_type": "code",
   "execution_count": 18,
   "id": "bf2fb127",
   "metadata": {},
   "outputs": [],
   "source": [
    "import numpy as np"
   ]
  },
  {
   "cell_type": "markdown",
   "id": "c98ecef2",
   "metadata": {},
   "source": [
    "# Main partner countries by crop"
   ]
  },
  {
   "cell_type": "code",
   "execution_count": 49,
   "id": "930acce9",
   "metadata": {},
   "outputs": [
    {
     "name": "stdout",
     "output_type": "stream",
     "text": [
      "                    Trade Value (US$)\n",
      "Partner                              \n",
      "USA                         426018229\n",
      "Russian Federation          319020570\n",
      "Canada                      207062676\n",
      "Argentina                    77752651\n",
      "Lithuania                    58022499\n"
     ]
    },
    {
     "data": {
      "image/png": "[encoded data removed]",
      "text/plain": [
       "<Figure size 432x288 with 1 Axes>"
      ]
     },
     "metadata": {
      "needs_background": "light"
     },
     "output_type": "display_data"
    }
   ],
   "source": [
    "wheat_partner=cereal_countries_import[cereal_countries_import['Commodity']=='Cereals; wheat and meslin, durum wheat, seed'].groupby('Partner')[['Trade Value (US$)']].agg(sum)\n",
    "wheat_partner_sorted=wheat_partner.sort_values(by='Trade Value (US$)', ascending=False).head()\n",
    "print(wheat_partner_sorted)\n",
    "wheat_partner_sorted.plot( kind='bar', color='#663399')\n",
    "plt.title('Wheat')\n",
    "plt.show()\n"
   ]
  },
  {
   "cell_type": "markdown",
   "id": "497c5f00",
   "metadata": {},
   "source": [
    "The main importers of wheat into Nigeria are shown above. A high percentage of wheat is imported into Nigeria from the USA and from Russia Federation with a trade value of over 426 million USD and  319 million USD respectively from 2018-2021"
   ]
  },
  {
   "cell_type": "code",
   "execution_count": 34,
   "id": "50fc289e",
   "metadata": {
    "scrolled": true
   },
   "outputs": [
    {
     "name": "stdout",
     "output_type": "stream",
     "text": [
      "           Trade Value (US$)\n",
      "Partner                     \n",
      "Argentina           89481310\n",
      "USA                 16054985\n",
      "China               12974270\n",
      "Brazil               8546456\n",
      "India                1817215\n"
     ]
    },
    {
     "data": {
      "image/png": "[encoded data removed]",
      "text/plain": [
       "<Figure size 432x288 with 1 Axes>"
      ]
     },
     "metadata": {
      "needs_background": "light"
     },
     "output_type": "display_data"
    }
   ],
   "source": [
    "maize_partner=cereal_countries_import[cereal_countries_import['Commodity']=='Cereals; maize (corn), seed'].groupby('Partner')[['Trade Value (US$)']].agg(sum)\n",
    "maize_partner_sorted=maize_partner.sort_values(by='Trade Value (US$)', ascending=False).head()\n",
    "print(maize_partner_sorted)\n",
    "maize_partner_sorted.plot( kind='bar', color='#000080')\n",
    "plt.title('maize')\n",
    "plt.show()"
   ]
  },
  {
   "cell_type": "code",
   "execution_count": 35,
   "id": "877986a2",
   "metadata": {},
   "outputs": [
    {
     "name": "stdout",
     "output_type": "stream",
     "text": [
      "          Trade Value (US$)\n",
      "Partner                    \n",
      "India              11335472\n",
      "Brazil              6280237\n",
      "Thailand            2130005\n",
      "China                166153\n",
      "Viet Nam              39953\n"
     ]
    },
    {
     "data": {
      "image/png": "[encoded data removed]",
      "text/plain": [
       "<Figure size 432x288 with 1 Axes>"
      ]
     },
     "metadata": {
      "needs_background": "light"
     },
     "output_type": "display_data"
    }
   ],
   "source": [
    "rice_partner=cereal_countries_import[cereal_countries_import['Commodity']=='Cereals; rice in the husk (paddy or rough)'].groupby('Partner')[['Trade Value (US$)']].agg(sum)\n",
    "rice_partner_sorted=rice_partner.sort_values(by='Trade Value (US$)', ascending=False).head()\n",
    "print(rice_partner_sorted)\n",
    "rice_partner_sorted.plot( kind='bar', color='#008080')\n",
    "plt.title('rice')\n",
    "plt.show()\n"
   ]
  },
  {
   "cell_type": "code",
   "execution_count": 47,
   "id": "4be3bbe4",
   "metadata": {},
   "outputs": [
    {
     "name": "stdout",
     "output_type": "stream",
     "text": [
      "                Trade Value (US$)\n",
      "Partner                          \n",
      "China                     2931307\n",
      "Canada                    1972979\n",
      "United Kingdom            1065919\n",
      "Belgium                    300603\n",
      "Argentina                  276960\n"
     ]
    },
    {
     "data": {
      "image/png": "[encoded data removed]",
      "text/plain": [
       "<Figure size 432x288 with 1 Axes>"
      ]
     },
     "metadata": {
      "needs_background": "light"
     },
     "output_type": "display_data"
    }
   ],
   "source": [
    "# oat_partner=cereal_countries_import[cereal_countries_import['Commodity']=='Cereals; oats, seeds'].groupby('Partner')[['Trade Value (US$)']].agg(sum)\n",
    "oat_partner_sorted=oat_partner.sort_values(by='Trade Value (US$)', ascending=False).head()\n",
    "print(oat_partner_sorted)\n",
    "oat_partner_sorted.plot( kind='bar', color='#008080')\n",
    "plt.title('oats')\n",
    "plt.show()\n"
   ]
  },
  {
   "cell_type": "markdown",
   "id": "23ce253d",
   "metadata": {},
   "source": [
    "For a country to be able to export its food to other countries, she must have more than enough to satisfy the need of her citizens. Therefore, knowing the countries where a large quantity of these crops are exported  will make it possible to study and adopt the production practices of these countries"
   ]
  },
  {
   "cell_type": "markdown",
   "id": "43499c9e",
   "metadata": {},
   "source": [
    "# Conclusion"
   ]
  },
  {
   "cell_type": "markdown",
   "id": "c0baf337",
   "metadata": {},
   "source": [
    "From the analysis above, it can be deduced that a large percentage of Nigeria's revenue is spent on the importation of commodities from partner countries. Although there are products that the country don't have the required technical know-how to produce, agricultural food items shoud be an exception. The problems of local production can be solved through the provision of  varieties that are  able to adapt to the prevailing environmental conditions, and helping farmers to improve on their yield per hectare."
   ]
  }
 ],
 "metadata": {
  "kernelspec": {
   "display_name": "Python 3 (ipykernel)",
   "language": "python",
   "name": "python3"
  },
  "language_info": {
   "codemirror_mode": {
    "name": "ipython",
    "version": 3
   },
   "file_extension": ".py",
   "mimetype": "text/x-python",
   "name": "python",
   "nbconvert_exporter": "python",
   "pygments_lexer": "ipython3",
   "version": "3.9.7"
  }
 },
 "nbformat": 4,
 "nbformat_minor": 5
}
